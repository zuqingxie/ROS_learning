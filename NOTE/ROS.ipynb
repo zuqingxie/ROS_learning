{
 "cells": [
  {
   "cell_type": "markdown",
   "metadata": {},
   "source": [
    "## ROS2 Migration from ROS1"
   ]
  },
  {
   "cell_type": "markdown",
   "metadata": {},
   "source": [
    "### package.xml\n"
   ]
  },
  {
   "cell_type": "code",
   "execution_count": null,
   "metadata": {},
   "outputs": [],
   "source": [
    "<!-- <package format=\"1\"> -->\n",
    "<package format=\"3\">\n",
    "<!-- ROS1 支持所有的版本1，2，3。而ROS2只支持2或者更高的版本 -->\n",
    "\n",
    "\n",
    "<!-- 移除 -->\n",
    "<metapackages/>\n",
    "\n",
    "\n",
    "<!-- message 的格式要变一下 -->\n",
    "Message.msg ==> msg/Message.msg\n",
    "\n",
    "<!--  <buildtool_depend>catkin</buildtool_depend> -->\n",
    "  <buildtool_depend>ament_cmake</buildtool_depend>\n",
    "\n",
    "\n",
    "<depend>rclcpp</depend>\n",
    "<depend>std_msgs</depend>\n",
    "\n",
    "\n",
    "\n",
    "<!-- 自定义包的时候-->\n",
    "<buildtool_depend>rosidl_default_generators</buildtool_depend>\n",
    "<exec_depend>rosidl_default_runtime</exec_depend>\n",
    "\n",
    "\n",
    "<export>\n",
    "  <build_type>ament_cmake</build_type>\n",
    "</export>\n"
   ]
  },
  {
   "cell_type": "markdown",
   "metadata": {},
   "source": [
    "### CMakeList.txt"
   ]
  },
  {
   "cell_type": "code",
   "execution_count": null,
   "metadata": {},
   "outputs": [],
   "source": [
    "# cmake_minimum_required(VERSION 2.8.3)\n",
    "cmake_minimum_required(VERSION 3.5)\n",
    "\n",
    "\n",
    "# 加上\n",
    "set(CMAKE_CXX_STANDARD 14)\n",
    "\n",
    "# 自定义包的时候\n",
    "find_package(rosidl_default_generators REQUIRED)\n",
    "# 载入的包\n",
    "find_package(message_package REQUIRED)\n",
    "\n",
    "# 将 generate_messages 方程改成:\n",
    "rosidl_generate_interfaces 代替 add_message_files 和 add_service_files 这两个函数\n",
    "\n",
    "\n",
    "# 系统编译 Build System\n",
    "# 编译系统是ament 而编译工具是 colcon。\n",
    "# ament_cmake 提供CMake方程,使得CMakeList.txt 编写更加方便。\n",
    "\n",
    "\n",
    "find_package(ament_cmake REQUIRED)\n",
    "find_package(rclcpp REQUIRED)\n",
    "# ...\n",
    "find_package(std_msgs REQUIRED)\n",
    "\n",
    "# system Dependencies\n",
    "find_package(Boost REQUIRED COMPONENTS system filesystem thread)\n",
    "\n",
    "# CATKIN_DEPENDS    export dependencies\n",
    "ament_export_dependencies(...)\n",
    "\n",
    "# INCLUDE_DIRS\n",
    "ament_export_include_directories(...)\n",
    "\n",
    "# LIBRARIES\n",
    "ament_export_libraries(...)\n",
    "\n",
    "\n",
    "# include_directories(${catkin_INCLUDE_DIRS})\n",
    "include_directories(include ${Boost_INCLUDE_DIRS})\n",
    "\n",
    "\n",
    "# install(TARGETS talker\n",
    "#  RUNTIME DESTINATION ${CATKIN_PACKAGE_BIN_DESTINATION})\n",
    "install(TARGETS talker\n",
    "  DESTINATION lib/${PROJECT_NAME})\n",
    "\n",
    "\n",
    "# target_link_libraries(talker ${catkin_LIBRARIES})\n",
    "ament_target_dependencies(talker\n",
    "  rclcpp\n",
    "  std_msgs)\n",
    "\n",
    "\n",
    "target_include_directories(target include ${Boost_INCLUDE_DIRS})\n",
    "\n",
    "# At the bottom of the file:\n",
    "ament_package()\n"
   ]
  },
  {
   "cell_type": "markdown",
   "metadata": {},
   "source": [
    "### CODE 代码端的修改"
   ]
  },
  {
   "cell_type": "code",
   "execution_count": null,
   "metadata": {},
   "outputs": [],
   "source": [
    "// 中间加上了/msg/\n",
    "// CamelCase to underscore separation 从驼峰型变成了小写加下划线类型\n",
    "// .h 变成了 .hpp\n",
    "#include <my_interfaces/msg/my_message.hpp>\n",
    "//#include \"std_msgs/time.h\"\n",
    "#include \"builtin_interfaces/msg/time.hpp\"\n",
    "\n",
    "//#include \"ros/ros.h\"\n",
    "#include \"rclcpp/rclcpp.hpp\"\n",
    "\n",
    "\n",
    "// 实现的时候,仍然是驼峰型\n",
    "my_interfaces::msg::MyMessage;\n",
    "my_interfaces::msg::MyMessage::SharedPtr;\n",
    "my_interfaces::msg::MyMessage::ConstSharedPtr;\n",
    "\n",
    "\n",
    "//ros::Time\n",
    "rclcpp::Time;\n",
    "// Time 里面的 nsec => nanosec\n",
    "\n",
    "//ros::Rate\n",
    "rclcpp::Rate;\n",
    "\n",
    "// 尽量不要使用boost。因为很多已经被纳入c++标准库里面了，所以尽可能脱离对boost的依赖\n",
    "\n",
    "//  ros::init(argc, argv, \"talker\");\n",
    "//  ros::NodeHandle n;\n",
    "rclcpp::init(argc, argv);\n",
    "auto node = rclcpp::Node::make_shared(\"talker\");\n",
    "\n",
    "\n",
    "//  ros::Publisher chatter_pub = n.advertise<std_msgs::String>(\"chatter\", 1000);\n",
    "//  ros::Rate loop_rate(10);\n",
    "auto chatter_pub = node->create_publisher<std_msgs::msg::String>(\"chatter\",1000);\n",
    "rclcpp::Rate loop_rate(10);\n",
    "\n",
    "//  while (ros::ok())\n",
    "  while (rclcpp::ok())\n",
    "\n",
    "\n",
    "  //  std_msgs::String msg;\n",
    "std_msgs::msg::String msg;\n",
    "msg.data = ss.str();\n",
    "\n",
    "  //    ROS_INFO(\"%s\", msg.data.c_str());\n",
    "    RCLCPP_INFO(node->get_logger(), \"%s\\n\", msg.data.c_str());\n",
    "\n",
    "//发布消息\n",
    "chatter_pub->publish(msg);\n",
    "\n",
    "\n",
    "// ros::spinOnce();\n",
    "rclcpp::spin_some(node);"
   ]
  },
  {
   "cell_type": "markdown",
   "metadata": {},
   "source": [
    "### Parameters\n",
    "-   [YAML file from ROS1 to ROS2](https://docs.ros.org/en/foxy/How-To-Guides/Parameters-YAML-files-migration-guide.html)"
   ]
  },
  {
   "cell_type": "markdown",
   "metadata": {},
   "source": [
    "-   ROS2 里面的参数都是根据不同的节点定义的。 所以YAML文件，会差很多！"
   ]
  },
  {
   "cell_type": "markdown",
   "metadata": {},
   "source": [
    "### Launch File"
   ]
  },
  {
   "cell_type": "markdown",
   "metadata": {},
   "source": [
    "-   [Launch file from ROS1 to ROS2](https://docs.ros.org/en/foxy/How-To-Guides/Launch-files-migration-guide.html)"
   ]
  },
  {
   "cell_type": "markdown",
   "metadata": {},
   "source": [
    "### 自定义msg和srv\n",
    "-   [自定义类型和使用](https://docs.ros.org/en/foxy/Tutorials/Custom-ROS2-Interfaces.html)"
   ]
  },
  {
   "cell_type": "markdown",
   "metadata": {},
   "source": [
    "#### Pure Python packages 纯用python编写的话:\n",
    "只引用setup.py"
   ]
  },
  {
   "cell_type": "markdown",
   "metadata": {},
   "source": [
    "- package.xml\n",
    "\n",
    "\n",
    "```\n",
    "      <export>\n",
    "        <build_type>ament_python</build_type>\n",
    "      </export>\n",
    "```"
   ]
  },
  {
   "cell_type": "markdown",
   "metadata": {},
   "source": [
    "- 删除 CMakeList.txt\n",
    "- 修改成 python3 格式"
   ]
  },
  {
   "cell_type": "markdown",
   "metadata": {},
   "source": [
    "##  ros::Time ros::Duration ros::Timer ros::Rate\n",
    "-   [ros时间总结](https://blog.csdn.net/u013834525/article/details/83863992)"
   ]
  },
  {
   "cell_type": "markdown",
   "metadata": {},
   "source": [
    "- ros::Time and ros::Duration has the same definition\n",
    "```\n",
    "            int32 sec\n",
    "            int32 nsec\n",
    "```"
   ]
  },
  {
   "cell_type": "markdown",
   "metadata": {},
   "source": [
    "1. Time 和 Duration 的使用\n",
    "2. 延时与寻黄\n",
    "3. 定时器 ros::Timer"
   ]
  }
 ],
 "metadata": {
  "interpreter": {
   "hash": "916dbcbb3f70747c44a77c7bcd40155683ae19c65e1c03b4aa3499c5328201f1"
  },
  "kernelspec": {
   "display_name": "Python 3.8.10 64-bit",
   "language": "python",
   "name": "python3"
  },
  "language_info": {
   "codemirror_mode": {
    "name": "ipython",
    "version": 3
   },
   "file_extension": ".py",
   "mimetype": "text/x-python",
   "name": "python",
   "nbconvert_exporter": "python",
   "pygments_lexer": "ipython3",
   "version": "3.8.10"
  },
  "orig_nbformat": 4
 },
 "nbformat": 4,
 "nbformat_minor": 2
}
