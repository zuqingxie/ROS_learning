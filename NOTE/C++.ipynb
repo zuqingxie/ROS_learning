{
 "cells": [
  {
   "cell_type": "markdown",
   "metadata": {},
   "source": [
    "#   C++ 语法学习"
   ]
  },
  {
   "cell_type": "markdown",
   "metadata": {},
   "source": [
    "### 最简单的程序"
   ]
  },
  {
   "cell_type": "code",
   "execution_count": null,
   "metadata": {},
   "outputs": [],
   "source": [
    "\n",
    "#include <iostream>\n",
    "using namespace std;\n",
    "\n",
    "int main() {\n",
    "    cout<<\"Hallo World\"<<endl;\n",
    "    return 0;   \n",
    "}"
   ]
  },
  {
   "cell_type": "code",
   "execution_count": null,
   "metadata": {},
   "outputs": [],
   "source": [
    "g++ filename -o runable_name;\n",
    "./runable_name"
   ]
  },
  {
   "cell_type": "markdown",
   "metadata": {},
   "source": [
    "### Header file\n",
    "-   可能会出现不同的文件同时编译共一个头文件，为了防止多次编译我们可以使用以下格式来包裹我们的定义："
   ]
  },
  {
   "cell_type": "code",
   "execution_count": null,
   "metadata": {},
   "outputs": [],
   "source": [
    "#ifndef PERCEPTION_LIDAR_CONE_DETECTOR_HANDLE_HPP\n",
    "#define PERCEPTION_LIDAR_CONE_DETECTOR_HANDLE_HPP\n",
    "...\n",
    "#endif "
   ]
  },
  {
   "cell_type": "markdown",
   "metadata": {},
   "source": [
    "### Header 与 cpp 文件的分离的好处有很多：\n",
    "-   可以在查看头文件的时候就知道类型了，不需要给出具体的实现方式\n",
    "-   实现分装\n",
    "-   历史问题：声明一般在代码前面完成"
   ]
  },
  {
   "cell_type": "markdown",
   "metadata": {},
   "source": [
    "### 我们一般在构造函数里面就可以实现实例化之后定义的一些数据类型\n",
    "也就是在实例化的时候就可以运行一些函数："
   ]
  },
  {
   "cell_type": "code",
   "execution_count": null,
   "metadata": {},
   "outputs": [],
   "source": [
    "    //构造函数定义\n",
    "    ConeDetectorHandle::ConeDetectorHandle(ros::NodeHandle &nodeHandle) :\n",
    "            nodeHandle_(nodeHandle) {\n",
    "        ROS_INFO(\"Constructing Handle\");\n",
    "        loadParameters(); //这些只是初始化定义一些发布接受和参数。具体的接受和发布将会在run里面进行\n",
    "        publishToTopics();\n",
    "        subscribeToTopics();\n",
    "    }"
   ]
  },
  {
   "cell_type": "markdown",
   "metadata": {},
   "source": [
    "### c_str():\n",
    "-   c_str()函数返回一个指向**正规C字符串的指针常量 char\\*（存放char类型内容的指针）**, 内容与本string串相同。\n",
    "这是为了与c语言兼容，在c语言中没有string类型，故必须通过**string类对象的成员函数c_str()把string 对象转换成c中的字符串样式**。"
   ]
  },
  {
   "cell_type": "code",
   "execution_count": null,
   "metadata": {},
   "outputs": [],
   "source": [
    "    string s=\"hello world\";\n",
    "    printf(\"%s\", s.c_str()); //这里的%s"
   ]
  },
  {
   "cell_type": "markdown",
   "metadata": {},
   "source": [
    "### 重载方程：\n",
    "-   这样可以是的传入不同类型的参数，使用同一个方程名称：\n"
   ]
  },
  {
   "cell_type": "code",
   "execution_count": null,
   "metadata": {},
   "outputs": [],
   "source": [
    "    void ConeDetectorHandle::load(std::string name, double& value, double defaultValue){\n",
    "        if (!nodeHandle_.param(name, value, defaultValue)) {\n",
    "            ROS_INFO(\"Did not load %s. Standard value is: %f\", name.c_str(), defaultValue);\n",
    "        }   \n",
    "    }\n",
    "\n",
    "    void ConeDetectorHandle::load(std::string name, int& value, int defaultValue){\n",
    "        if (!nodeHandle_.param(name, value, defaultValue)) {\n",
    "            ROS_INFO(\"Did not load %s. Standard value is: %d\", name.c_str(), defaultValue);\n",
    "        }\n",
    "    }\n",
    "\n",
    "    void ConeDetectorHandle::load(std::string name, std::string& value, std::string defaultValue){\n",
    "        if (!nodeHandle_.param<std::string>(name, value, defaultValue)) {\n",
    "            ROS_INFO(\"Did not load %s. Standard value is: %s\", name.c_str(), defaultValue.c_str());\n",
    "        }\n",
    "    }"
   ]
  },
  {
   "cell_type": "markdown",
   "metadata": {},
   "source": [
    "### 数据类型"
   ]
  },
  {
   "cell_type": "markdown",
   "metadata": {},
   "source": [
    "-   size_t: </br>\n",
    "    1.  size_t是标准C库中定义的，应为unsigned int，在64位系统中为 long unsigned int。就是长正整数"
   ]
  },
  {
   "cell_type": "markdown",
   "metadata": {},
   "source": [
    "-   修饰数据类型：\n",
    "    1.  signed----有（正负）符号，可修饰char、int。int是默认有符号的。\n",
    "    2.  unsigned-----无（正负）符号，修饰int 、char，short等\n",
    "    3.  long------长型，修饰int 、double等\n",
    "    4.  short------短型，修饰int"
   ]
  },
  {
   "cell_type": "markdown",
   "metadata": {},
   "source": [
    "-   [%d,%u,%s 基本用法](https://blog.csdn.net/myyllove/article/details/79574582)"
   ]
  },
  {
   "cell_type": "markdown",
   "metadata": {},
   "source": [
    "###  new 函数的用法"
   ]
  },
  {
   "cell_type": "markdown",
   "metadata": {},
   "source": [
    "-   new 开辟***堆空间***，而一般的变量声明在**栈上**。该段空间在局部函数调用结束后仍然能够使用，可以用来向主函数传递参数。另外需要注意的是，new的使用格式，new出来的是一段空间的**首地址**。所以一般需要用**指针**来存放这段地址。具体的代码如下："
   ]
  },
  {
   "cell_type": "code",
   "execution_count": null,
   "metadata": {},
   "outputs": [],
   "source": [
    "#include <iostream>\n",
    "using namespace std;\n",
    " \n",
    "int example1()\n",
    "{\n",
    "  //可以在new后面直接赋值\n",
    "  int *p = new int(3);\n",
    "  //也可以单独赋值\n",
    "  //*p = 3;\n",
    " \n",
    "  //如果不想使用指针，可以定义一个变量，在new之前用“*”表示new出来的内容\n",
    "  int q = *new int;\n",
    "  q = 1;\n",
    "  cout << q << endl;\n",
    " \n",
    "  return *p;\n",
    "}\n",
    " \n",
    "int* example2()\n",
    "{\n",
    "  //当new一个数组时，同样用一个指针接住数组的首地址\n",
    "  int *q = new int[3];\n",
    "  for(int i=0; i<3; i++)\n",
    "    q[i] = i;\n",
    " \n",
    "  return q;\n",
    "}\n",
    " \n",
    "struct student\n",
    "{\n",
    "  string name;\n",
    "  int score;\n",
    "};\n",
    " \n",
    " \n",
    "student* example3()\n",
    "{\n",
    "  //这里是用一个结构体指针接住结构体数组的首地址\n",
    "  //对于结构体指针，个人认为目前这种赋值方法比较方便\n",
    "  student *stlist = new student[3]{{\"abc\", 90}, {\"bac\", 78}, {\"ccd\", 93}};\n",
    " \n",
    "  return stlist;\n",
    "}\n",
    " \n",
    " \n",
    " \n",
    "int main()\n",
    "{\n",
    "  int e1 = example1();\n",
    "  cout <<\"e1: \"<< e1 << endl;\n",
    " \n",
    "  int *e2 = example2();\n",
    "  for(int i=0; i<3; i++)\n",
    "    cout << e2[i] << \" \";\n",
    "  cout << endl;\n",
    " \n",
    " \n",
    "  student *st1 = example3();\n",
    " \n",
    "  for(int i=0; i<3; i++)\n",
    "    cout << st1[i].name << \" \" << st1[i].score << endl;\n",
    " \n",
    " \n",
    " \n",
    "  return 0;\n",
    "}"
   ]
  }
 ],
 "metadata": {
  "language_info": {
   "name": "python"
  },
  "orig_nbformat": 4
 },
 "nbformat": 4,
 "nbformat_minor": 2
}
