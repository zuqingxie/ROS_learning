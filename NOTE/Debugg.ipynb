{
 "cells": [
  {
   "cell_type": "markdown",
   "metadata": {},
   "source": [
    "#   Learn from the Debugging"
   ]
  },
  {
   "cell_type": "markdown",
   "metadata": {},
   "source": [
    "## ROS1"
   ]
  },
  {
   "cell_type": "markdown",
   "metadata": {},
   "source": [
    "## ROS2"
   ]
  },
  {
   "cell_type": "markdown",
   "metadata": {},
   "source": [
    "1. install extension \"ROS\"\n",
    "2. add into the setting.json :     \"ros.distro\": \"foxy\",\n",
    "3. source ros2 before open the code\n",
    "4. make sure domain ID is 0\n",
    "5. open VScode with the workspace\n",
    "6. Ctrl+shift+p \n",
    "7. ROS: start (deamon start)\n",
    "8. ROS: stop (cause all the node stop)\n",
    "9. ROS: Update c++ Properties"
   ]
  },
  {
   "cell_type": "markdown",
   "metadata": {},
   "source": [
    "##  C++"
   ]
  }
 ],
 "metadata": {
  "language_info": {
   "name": "python"
  },
  "orig_nbformat": 4
 },
 "nbformat": 4,
 "nbformat_minor": 2
}
