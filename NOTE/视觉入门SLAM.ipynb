{
 "cells": [
  {
   "cell_type": "markdown",
   "metadata": {},
   "source": [
    "#   视觉SLAM入门"
   ]
  },
  {
   "cell_type": "markdown",
   "metadata": {},
   "source": [
    "##  第六讲：后端优化"
   ]
  },
  {
   "cell_type": "markdown",
   "metadata": {},
   "source": [
    "-   特征点法：（ORB）要求可重复性，这样才能匹配两个照片。描述子也要最好相似性。利用匹配点的信息计算相机位资。\n",
    "-   提取ORB特征点和描述子非常耗时。实际上提取出来的很多没有用到的特征点，实际上是浪费了。而且匹配的时候如果地毯式搜索，也会浪费很多计算量。\n",
    "-   光流法：基本原理不是作匹配，而是一种跟踪的方法，找到配对点。\n",
    "-   直接法：不需要匹配"
   ]
  },
  {
   "cell_type": "markdown",
   "metadata": {},
   "source": [
    "### 光流法：\n",
    "[光流估计](https://www.youtube.com/watch?v=6AqQ5NNMDjA)\n",
    "-   需要现算出角点，用来放进光流法里面进行估计，因为角点是Lucas Kanade算法有解的前提。\n",
    "-   可以跳过特征点和特征点匹配。"
   ]
  },
  {
   "cell_type": "markdown",
   "metadata": {},
   "source": [
    "### 直接法:"
   ]
  },
  {
   "cell_type": "markdown",
   "metadata": {},
   "source": [
    "-   特征点法和光流法，一般分为两步：Data Association 和 pose estimation\n",
    "-   直接法：整体的"
   ]
  }
 ],
 "metadata": {
  "language_info": {
   "name": "python"
  },
  "orig_nbformat": 4
 },
 "nbformat": 4,
 "nbformat_minor": 2
}
