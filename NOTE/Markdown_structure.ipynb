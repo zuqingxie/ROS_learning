{
 "cells": [
  {
   "cell_type": "markdown",
   "metadata": {},
   "source": [
    "#   Markdown 快速入门"
   ]
  },
  {
   "cell_type": "markdown",
   "metadata": {},
   "source": [
    "##  1.标题设置\n",
    "```\n",
    "这些标题会在大纲（OUTLINE）显示出来\n",
    "    #   一级标题\n",
    "    ##  二级标题\n",
    "    ### 三级标题\n",
    "    #### 四级标题\n",
    "    ##### 五级标题\n",
    "    ###### 六级标题\n"
   ]
  },
  {
   "cell_type": "markdown",
   "metadata": {},
   "source": [
    "## 2.字体"
   ]
  },
  {
   "cell_type": "code",
   "execution_count": null,
   "metadata": {},
   "outputs": [],
   "source": [
    "//加粗\n",
    "**等不到天亮**\n",
    "//高亮\n",
    "==等到天籁==\n",
    "//删除线\n",
    "~~等得到天亮~~\n",
    "//斜体\n",
    "*斜体内容*"
   ]
  },
  {
   "cell_type": "markdown",
   "metadata": {},
   "source": [
    "**等不到天亮**\n",
    "==等到天籁==\n",
    "~~等得到天亮~~\n",
    "*斜体内容*"
   ]
  },
  {
   "cell_type": "markdown",
   "metadata": {},
   "source": [
    "## 2.引用"
   ]
  },
  {
   "cell_type": "code",
   "execution_count": null,
   "metadata": {},
   "outputs": [],
   "source": [
    "// 引用语法\n",
    ">author: Martin\n",
    ">>author: Margin"
   ]
  },
  {
   "cell_type": "markdown",
   "metadata": {},
   "source": [
    "##  3.分割线\n"
   ]
  },
  {
   "cell_type": "markdown",
   "metadata": {},
   "source": [
    "---"
   ]
  },
  {
   "cell_type": "markdown",
   "metadata": {},
   "source": [
    "***"
   ]
  },
  {
   "cell_type": "markdown",
   "metadata": {},
   "source": [
    "## 4.图片插入"
   ]
  },
  {
   "cell_type": "markdown",
   "metadata": {},
   "source": [
    "![picture_name](/image/me.png) --picture_path"
   ]
  },
  {
   "cell_type": "markdown",
   "metadata": {},
   "source": [
    "## 5.超链接\n",
    "[my github](https://www.google.com/search?q=linux+%E5%A6%82%E4%BD%95%E5%B0%86%E6%88%AA%E5%B1%8F%E4%BF%9D%E5%AD%98%E5%88%B0%E7%89%B9%E5%AE%9A%E7%9A%84%E6%96%87%E4%BB%B6%E5%A4%B9&oq=linux+%E5%A6%82%E4%BD%95%E5%B0%86%E6%88%AA%E5%B1%8F%E4%BF%9D%E5%AD%98%E5%88%B0%E7%89%B9%E5%AE%9A%E7%9A%84%E6%96%87%E4%BB%B6%E5%A4%B9&aqs=chrome..69i57.22045j0j7&sourceid=chrome&ie=UTF-8)"
   ]
  },
  {
   "cell_type": "markdown",
   "metadata": {},
   "source": [
    "## 6.无需列表\n"
   ]
  },
  {
   "cell_type": "code",
   "execution_count": null,
   "metadata": {},
   "outputs": [],
   "source": [
    "//无序列表\n",
    "- 目录1\n",
    "- 目录2\n",
    "//有序列表\n",
    "1. 目录1"
   ]
  },
  {
   "cell_type": "markdown",
   "metadata": {},
   "source": [
    "- 目录1\n",
    "- 目录2\n",
    "1. 目录1\n",
    "2. 目录2"
   ]
  },
  {
   "cell_type": "markdown",
   "metadata": {},
   "source": []
  }
 ],
 "metadata": {
  "language_info": {
   "name": "python"
  },
  "orig_nbformat": 4
 },
 "nbformat": 4,
 "nbformat_minor": 2
}
