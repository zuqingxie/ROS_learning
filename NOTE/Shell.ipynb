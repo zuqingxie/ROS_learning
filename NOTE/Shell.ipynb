{
 "cells": [
  {
   "cell_type": "markdown",
   "metadata": {},
   "source": [
    "## Schell 参数传递"
   ]
  },
  {
   "cell_type": "markdown",
   "metadata": {},
   "source": [
    "[教程，全面的](https://www.runoob.com/linux/linux-shell-process-control.html)"
   ]
  },
  {
   "cell_type": "code",
   "execution_count": null,
   "metadata": {},
   "outputs": [],
   "source": [
    "// IF   \n",
    "\n",
    "if condition\n",
    "\n",
    "then  \n",
    "\n",
    "command1\n",
    "command2\n",
    "...  \n",
    "commandN\n",
    "\n",
    "fi   "
   ]
  },
  {
   "cell_type": "code",
   "execution_count": null,
   "metadata": {},
   "outputs": [],
   "source": [
    "echo \"Shell 传递参数实例！\";\n",
    "echo \"执行的文件名：$0\";\n",
    "echo \"第一个参数为：$1\";\n",
    "echo \"第二个参数为：$2\";\n",
    "echo \"第三个参数为：$3\";\n",
    "\n",
    "$ ./test.sh 1 2 3"
   ]
  }
 ],
 "metadata": {
  "language_info": {
   "name": "python"
  },
  "orig_nbformat": 4
 },
 "nbformat": 4,
 "nbformat_minor": 2
}
